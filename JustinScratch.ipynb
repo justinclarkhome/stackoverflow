{
 "cells": [
  {
   "cell_type": "code",
   "execution_count": null,
   "id": "2d3dc8d1-55ae-4a3f-8c92-690478380c1d",
   "metadata": {},
   "outputs": [],
   "source": [
    "import pandas as pd, numpy as numpy\n",
    "import seaborn as sns\n",
    "import matplotlib.pyplot as plt"
   ]
  },
  {
   "cell_type": "code",
   "execution_count": null,
   "id": "b06a117e-444c-43ec-9170-16e47021c4ac",
   "metadata": {},
   "outputs": [],
   "source": []
  }
 ],
 "metadata": {
  "kernelspec": {
   "display_name": "Python 3 (ipykernel)",
   "language": "python",
   "name": "python3"
  },
  "language_info": {
   "codemirror_mode": {
    "name": "ipython",
    "version": 3
   },
   "file_extension": ".py",
   "mimetype": "text/x-python",
   "name": "python",
   "nbconvert_exporter": "python",
   "pygments_lexer": "ipython3",
   "version": "3.11.5"
  }
 },
 "nbformat": 4,
 "nbformat_minor": 5
}
